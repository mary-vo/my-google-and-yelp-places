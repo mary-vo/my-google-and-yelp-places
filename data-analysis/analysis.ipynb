{
 "cells": [
  {
   "cell_type": "code",
   "execution_count": 2,
   "metadata": {},
   "outputs": [
    {
     "name": "stdout",
     "output_type": "stream",
     "text": [
      "['c:\\\\git\\\\Code Louisville Session 1\\\\my-google-and-yelp-places/src', 'c:\\\\git\\\\Code Louisville Session 1\\\\my-google-and-yelp-places\\\\data-analysis', 'C:\\\\Users\\\\edgar\\\\AppData\\\\Local\\\\Programs\\\\Python\\\\Python39\\\\python39.zip', 'C:\\\\Users\\\\edgar\\\\AppData\\\\Local\\\\Programs\\\\Python\\\\Python39\\\\DLLs', 'C:\\\\Users\\\\edgar\\\\AppData\\\\Local\\\\Programs\\\\Python\\\\Python39\\\\lib', 'C:\\\\Users\\\\edgar\\\\AppData\\\\Local\\\\Programs\\\\Python\\\\Python39', 'c:\\\\git\\\\Code Louisville Session 1\\\\my-google-and-yelp-places\\\\venv', '', 'c:\\\\git\\\\Code Louisville Session 1\\\\my-google-and-yelp-places\\\\venv\\\\lib\\\\site-packages', 'c:\\\\git\\\\Code Louisville Session 1\\\\my-google-and-yelp-places\\\\venv\\\\lib\\\\site-packages\\\\win32', 'c:\\\\git\\\\Code Louisville Session 1\\\\my-google-and-yelp-places\\\\venv\\\\lib\\\\site-packages\\\\win32\\\\lib', 'c:\\\\git\\\\Code Louisville Session 1\\\\my-google-and-yelp-places\\\\venv\\\\lib\\\\site-packages\\\\Pythonwin']\n"
     ]
    }
   ],
   "source": [
    "import os\n",
    "import sys\n",
    "\n",
    "# Add the 'src' directory to the Python path\n",
    "sys.path.insert(0, os.path.abspath('..') + '/src')\n"
   ]
  },
  {
   "cell_type": "code",
   "execution_count": 3,
   "metadata": {},
   "outputs": [],
   "source": [
    "import matplotlib.pyplot as plt\n",
    "from curated_product import main"
   ]
  },
  {
   "cell_type": "code",
   "execution_count": 4,
   "metadata": {},
   "outputs": [
    {
     "data": {
      "text/html": [
       "<div>\n",
       "<style scoped>\n",
       "    .dataframe tbody tr th:only-of-type {\n",
       "        vertical-align: middle;\n",
       "    }\n",
       "\n",
       "    .dataframe tbody tr th {\n",
       "        vertical-align: top;\n",
       "    }\n",
       "\n",
       "    .dataframe thead th {\n",
       "        text-align: right;\n",
       "    }\n",
       "</style>\n",
       "<table border=\"1\" class=\"dataframe\">\n",
       "  <thead>\n",
       "    <tr style=\"text-align: right;\">\n",
       "      <th></th>\n",
       "      <th>Business Name</th>\n",
       "      <th>Note</th>\n",
       "      <th>City</th>\n",
       "      <th>State</th>\n",
       "      <th>Country</th>\n",
       "    </tr>\n",
       "  </thead>\n",
       "  <tbody>\n",
       "    <tr>\n",
       "      <th>0</th>\n",
       "      <td>6°12'36.3\"N 75°34'11.0\"W</td>\n",
       "      <td>Authentic Colombia food</td>\n",
       "      <td></td>\n",
       "      <td></td>\n",
       "      <td></td>\n",
       "    </tr>\n",
       "    <tr>\n",
       "      <th>1</th>\n",
       "      <td>Isarn Thai Soul Kitchen</td>\n",
       "      <td>Maybe?</td>\n",
       "      <td>Seattle</td>\n",
       "      <td>Washington</td>\n",
       "      <td>United States</td>\n",
       "    </tr>\n",
       "    <tr>\n",
       "      <th>2</th>\n",
       "      <td>Sushi Dai</td>\n",
       "      <td>Ingredients fresh from Tsukiji Fish Market dow...</td>\n",
       "      <td>Koto City</td>\n",
       "      <td>Tokyo</td>\n",
       "      <td>Japan</td>\n",
       "    </tr>\n",
       "    <tr>\n",
       "      <th>3</th>\n",
       "      <td>Korean Sool Bottleshop</td>\n",
       "      <td>Where to buy liquor to bring back to the states!</td>\n",
       "      <td></td>\n",
       "      <td>Seoul</td>\n",
       "      <td>South Korea</td>\n",
       "    </tr>\n",
       "    <tr>\n",
       "      <th>4</th>\n",
       "      <td>Prague Astronomical Clock</td>\n",
       "      <td>NaN</td>\n",
       "      <td></td>\n",
       "      <td>Hlavní město Praha</td>\n",
       "      <td>Czechia</td>\n",
       "    </tr>\n",
       "  </tbody>\n",
       "</table>\n",
       "</div>"
      ],
      "text/plain": [
       "               Business Name  \\\n",
       "0   6°12'36.3\"N 75°34'11.0\"W   \n",
       "1    Isarn Thai Soul Kitchen   \n",
       "2                  Sushi Dai   \n",
       "3     Korean Sool Bottleshop   \n",
       "4  Prague Astronomical Clock   \n",
       "\n",
       "                                                Note       City  \\\n",
       "0                            Authentic Colombia food              \n",
       "1                                             Maybe?    Seattle   \n",
       "2  Ingredients fresh from Tsukiji Fish Market dow...  Koto City   \n",
       "3   Where to buy liquor to bring back to the states!              \n",
       "4                                                NaN              \n",
       "\n",
       "                State        Country  \n",
       "0                                     \n",
       "1          Washington  United States  \n",
       "2               Tokyo          Japan  \n",
       "3               Seoul    South Korea  \n",
       "4  Hlavní město Praha        Czechia  "
      ]
     },
     "execution_count": 4,
     "metadata": {},
     "output_type": "execute_result"
    }
   ],
   "source": [
    "curated_df = main()\n",
    "curated_df.head()"
   ]
  },
  {
   "attachments": {},
   "cell_type": "markdown",
   "metadata": {},
   "source": [
    "Determine the number of \"places\" by Country (i.e. the occurrences of Country in the curated dataframe)"
   ]
  },
  {
   "cell_type": "code",
   "execution_count": 5,
   "metadata": {},
   "outputs": [
    {
     "data": {
      "text/plain": [
       "Text(0.5, 1.0, 'Count of Saved Places by Country')"
      ]
     },
     "execution_count": 5,
     "metadata": {},
     "output_type": "execute_result"
    },
    {
     "data": {
      "image/png": "[encoded data removed]",
      "text/plain": [
       "<Figure size 640x480 with 1 Axes>"
      ]
     },
     "metadata": {},
     "output_type": "display_data"
    }
   ],
   "source": [
    "country_occurrences = curated_df['Country'].value_counts()\n",
    "# colors = ['#' + ''.join(random.choices('0123456789ABCDEF', k=6)) for _ in range(len(country_occurrences))]\n",
    "plt.barh(country_occurrences.index, country_occurrences.values, color = \"g\")\n",
    "plt.xlabel(\"Occurrences\")\n",
    "plt.ylabel(\"Country\")\n",
    "plt.title(\"Count of Saved Places by Country\")\n"
   ]
  }
 ],
 "metadata": {
  "kernelspec": {
   "display_name": "Python 3",
   "language": "python",
   "name": "python3"
  },
  "language_info": {
   "codemirror_mode": {
    "name": "ipython",
    "version": 3
   },
   "file_extension": ".py",
   "mimetype": "text/x-python",
   "name": "python",
   "nbconvert_exporter": "python",
   "pygments_lexer": "ipython3",
   "version": "3.9.0"
  },
  "orig_nbformat": 4,
  "vscode": {
   "interpreter": {
    "hash": "fd6de60cc202df302348488ddc539a0b871575196ba754f9909c09dd4d1cd470"
   }
  }
 },
 "nbformat": 4,
 "nbformat_minor": 2
}
