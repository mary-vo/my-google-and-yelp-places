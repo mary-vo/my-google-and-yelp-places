{
 "cells": [
  {
   "cell_type": "code",
   "execution_count": null,
   "metadata": {},
   "outputs": [],
   "source": [
    "import pandas as pd\n",
    "import matplotlib.pyplot as plt\n",
    "import geopandas as gpd"
   ]
  },
  {
   "cell_type": "code",
   "execution_count": null,
   "metadata": {},
   "outputs": [],
   "source": [
    "final_dataframe = pd.read_excel(\"curated_data.xlsx\")"
   ]
  },
  {
   "attachments": {},
   "cell_type": "markdown",
   "metadata": {},
   "source": [
    "### Return some basic information about the dataframe"
   ]
  },
  {
   "attachments": {},
   "cell_type": "markdown",
   "metadata": {},
   "source": [
    "Results to info() shows 2537 records in total, but I can also see that there are a number of fields where the city, state, or country was not found"
   ]
  },
  {
   "cell_type": "code",
   "execution_count": null,
   "metadata": {},
   "outputs": [],
   "source": [
    "final_dataframe.info()"
   ]
  },
  {
   "attachments": {},
   "cell_type": "markdown",
   "metadata": {},
   "source": [
    "describe() shows similar information, but it also tells me the unique count of business name/places.\n",
    "This means I have duplication. Note to self: clean this up at a later date in the ETL code."
   ]
  },
  {
   "cell_type": "code",
   "execution_count": null,
   "metadata": {},
   "outputs": [],
   "source": [
    "final_dataframe.describe()"
   ]
  },
  {
   "attachments": {},
   "cell_type": "markdown",
   "metadata": {},
   "source": [
    "Determine unique/distinct counts for each column in the dataframe"
   ]
  },
  {
   "cell_type": "code",
   "execution_count": null,
   "metadata": {},
   "outputs": [],
   "source": [
    "unique_counts = pd.DataFrame.from_records([(col, final_dataframe[col].nunique()) for col in final_dataframe.columns],columns=['Column_Name', 'Num_Unique']).sort_values(by=['Num_Unique'])\n",
    "unique_counts"
   ]
  },
  {
   "attachments": {},
   "cell_type": "markdown",
   "metadata": {},
   "source": [
    "### Starting Analysis and Visualization"
   ]
  },
  {
   "attachments": {},
   "cell_type": "markdown",
   "metadata": {},
   "source": [
    "Search the \"Note\" column in final_dataframe for the string \"happy hour\""
   ]
  },
  {
   "cell_type": "code",
   "execution_count": null,
   "metadata": {},
   "outputs": [],
   "source": [
    "happy_hour_df = final_dataframe.loc[final_dataframe[\"Note\"].str.contains(\"happy hour\", case=False, na=False)]\n",
    "happy_hour_df\n"
   ]
  },
  {
   "attachments": {},
   "cell_type": "markdown",
   "metadata": {},
   "source": [
    "I would like to eventually map frequency of places in US States. First, I will return a unique list of countries from 'Country'. This way I know how to filter for US States."
   ]
  },
  {
   "cell_type": "code",
   "execution_count": null,
   "metadata": {},
   "outputs": [],
   "source": [
    "# I just realized that unique and nunique returns different values for Country: 35 vs. 36. \n",
    "# Unique includes missing value (i.e. nan)\n",
    "final_dataframe.Country.unique()"
   ]
  },
  {
   "cell_type": "code",
   "execution_count": null,
   "metadata": {},
   "outputs": [],
   "source": [
    "countries = ['United States', 'US']\n",
    "us_only_places_df = final_dataframe.loc[(final_dataframe['Country'].isin(countries))]\n",
    "len(us_only_places_df.index)"
   ]
  },
  {
   "attachments": {},
   "cell_type": "markdown",
   "metadata": {},
   "source": [
    "Return a distinct list of US States\n",
    "Results indicate that I have a blended list of state names (long name and short name)\n",
    "This is will likely create an issue when mapping because I will join on state name"
   ]
  },
  {
   "cell_type": "code",
   "execution_count": null,
   "metadata": {},
   "outputs": [],
   "source": [
    "us_only_places_df['State'].unique()"
   ]
  },
  {
   "attachments": {},
   "cell_type": "markdown",
   "metadata": {},
   "source": [
    "Now that I have a dataframe with just places in the United States, I can graph the number of \"places\" by US States"
   ]
  },
  {
   "cell_type": "code",
   "execution_count": null,
   "metadata": {},
   "outputs": [],
   "source": [
    "us_map = gpd.read_file('tl_2020_us_state.shp')\n",
    "names = ['Alaska', 'Hawaii', 'United States Virgin Islands', 'Commonwealth of the Northern Mariana Islands', 'Guam', 'American Samoa', 'Puerto Rico']\n",
    "updated_us_map = us_map.loc[~(us_map)['NAME'].isin(names)]\n",
    "state_occurrences = us_only_places_df['State'].value_counts().reset_index().rename(columns={'index':'NAME','State':'count'})\n",
    "merge_map = updated_us_map.merge(state_occurrences, on='NAME')\n",
    "merge_map.plot(column='count', cmap='Oranges', legend=True, legend_kwds={'label': \"Number of Places\", 'orientation': \"vertical\", 'shrink':0.4}, figsize=(12,20), edgecolor='black')\n",
    "plt.title('Count of Places Saved for each US States')"
   ]
  },
  {
   "attachments": {},
   "cell_type": "markdown",
   "metadata": {},
   "source": [
    "I was curious if I can return the list of state names for the above shape file.\n",
    "This also confirms that the shapefile is using full name for states.\n",
    "If I want to further refine my data, I can go back and update all the abbreviated state names with full name."
   ]
  },
  {
   "cell_type": "code",
   "execution_count": null,
   "metadata": {},
   "outputs": [],
   "source": [
    "gdf = gpd.read_file(\"tl_2020_us_state.shp\")\n",
    "state_names = list(gdf[\"NAME\"])\n",
    "state_names"
   ]
  },
  {
   "attachments": {},
   "cell_type": "markdown",
   "metadata": {},
   "source": [
    "Graph the number of \"places\" by Country (i.e. the occurrences of Country in the curated dataframe)"
   ]
  },
  {
   "attachments": {},
   "cell_type": "markdown",
   "metadata": {},
   "source": [
    "Results here tells me that I **should** further cleanse my data so that I standardize the Country names and combine data for similar countries. For example: US and United States are the same country and **should** be combined under \"United States\". Further research required to return long name for: MX, PR, and CA."
   ]
  },
  {
   "cell_type": "code",
   "execution_count": null,
   "metadata": {},
   "outputs": [],
   "source": [
    "country_occurrences = final_dataframe['Country'].value_counts()\n",
    "# colors = ['#' + ''.join(random.choices('0123456789ABCDEF', k=6)) for _ in range(len(country_occurrences))]\n",
    "plt.figure(figsize=(20, 12))\n",
    "plt.barh(country_occurrences.index, country_occurrences.values, color = \"g\")\n",
    "plt.xlabel(\"Occurrences\")\n",
    "plt.ylabel(\"Country\")\n",
    "plt.title(\"Count of Saved Places by Country\")\n",
    "plt.xticks(range(0,max(country_occurrences)+1, 50))\n",
    "\n",
    "for i, v in enumerate(country_occurrences.values):\n",
    "    plt.text(v + 10, i, str(v), color='black', fontweight='bold')\n"
   ]
  }
 ],
 "metadata": {
  "kernelspec": {
   "display_name": "Python 3",
   "language": "python",
   "name": "python3"
  },
  "language_info": {
   "codemirror_mode": {
    "name": "ipython",
    "version": 3
   },
   "file_extension": ".py",
   "mimetype": "text/x-python",
   "name": "python",
   "nbconvert_exporter": "python",
   "pygments_lexer": "ipython3",
   "version": "3.9.0"
  },
  "orig_nbformat": 4,
  "vscode": {
   "interpreter": {
    "hash": "fd6de60cc202df302348488ddc539a0b871575196ba754f9909c09dd4d1cd470"
   }
  }
 },
 "nbformat": 4,
 "nbformat_minor": 2
}
